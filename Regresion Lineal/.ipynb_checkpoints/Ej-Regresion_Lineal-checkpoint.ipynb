{
 "cells": [
  {
   "cell_type": "code",
   "execution_count": 1,
   "id": "blind-sentence",
   "metadata": {},
   "outputs": [],
   "source": [
    "import ipywidgets as widgets\n",
    "import matplotlib.pyplot as plt\n",
    "import numpy as np\n",
    "import pandas as pd\n",
    "%matplotlib widget\n",
    "\n",
    "layout = widgets.Layout(align_items = 'center')"
   ]
  },
  {
   "cell_type": "markdown",
   "id": "portuguese-assignment",
   "metadata": {},
   "source": [
    "<h1>REGRESIÓN LINEAL</h1>\n",
    "<h2>SET DE DATOS</h2>  "
   ]
  },
  {
   "cell_type": "code",
   "execution_count": 2,
   "id": "complex-scale",
   "metadata": {},
   "outputs": [
    {
     "data": {
      "text/html": [
       "<div>\n",
       "<style scoped>\n",
       "    .dataframe tbody tr th:only-of-type {\n",
       "        vertical-align: middle;\n",
       "    }\n",
       "\n",
       "    .dataframe tbody tr th {\n",
       "        vertical-align: top;\n",
       "    }\n",
       "\n",
       "    .dataframe thead th {\n",
       "        text-align: right;\n",
       "    }\n",
       "</style>\n",
       "<table border=\"1\" class=\"dataframe\">\n",
       "  <thead>\n",
       "    <tr style=\"text-align: right;\">\n",
       "      <th></th>\n",
       "      <th>bigCons</th>\n",
       "      <th>cons</th>\n",
       "      <th>income</th>\n",
       "      <th>price</th>\n",
       "      <th>temp</th>\n",
       "    </tr>\n",
       "  </thead>\n",
       "  <tbody>\n",
       "    <tr>\n",
       "      <th>0</th>\n",
       "      <td>0</td>\n",
       "      <td>0.386</td>\n",
       "      <td>78</td>\n",
       "      <td>0.270</td>\n",
       "      <td>41</td>\n",
       "    </tr>\n",
       "    <tr>\n",
       "      <th>1</th>\n",
       "      <td>0</td>\n",
       "      <td>0.374</td>\n",
       "      <td>79</td>\n",
       "      <td>0.282</td>\n",
       "      <td>56</td>\n",
       "    </tr>\n",
       "    <tr>\n",
       "      <th>2</th>\n",
       "      <td>0</td>\n",
       "      <td>0.393</td>\n",
       "      <td>81</td>\n",
       "      <td>0.277</td>\n",
       "      <td>63</td>\n",
       "    </tr>\n",
       "    <tr>\n",
       "      <th>3</th>\n",
       "      <td>1</td>\n",
       "      <td>0.425</td>\n",
       "      <td>80</td>\n",
       "      <td>0.280</td>\n",
       "      <td>68</td>\n",
       "    </tr>\n",
       "    <tr>\n",
       "      <th>4</th>\n",
       "      <td>1</td>\n",
       "      <td>0.406</td>\n",
       "      <td>76</td>\n",
       "      <td>0.272</td>\n",
       "      <td>69</td>\n",
       "    </tr>\n",
       "  </tbody>\n",
       "</table>\n",
       "</div>"
      ],
      "text/plain": [
       "   bigCons   cons  income  price  temp\n",
       "0        0  0.386      78  0.270    41\n",
       "1        0  0.374      79  0.282    56\n",
       "2        0  0.393      81  0.277    63\n",
       "3        1  0.425      80  0.280    68\n",
       "4        1  0.406      76  0.272    69"
      ]
     },
     "execution_count": 2,
     "metadata": {},
     "output_type": "execute_result"
    }
   ],
   "source": [
    "dfHelados = pd.read_csv('helados.csv')\n",
    "dfHelados.head(5)"
   ]
  },
  {
   "cell_type": "markdown",
   "id": "indie-malaysia",
   "metadata": {},
   "source": [
    "Se utilizarán las columnas correspondientes al ingreso de las familias, el precio del helado y la temperatura del día para intentar <strong>predecir la cantidad de helado consumido</strong>."
   ]
  },
  {
   "cell_type": "markdown",
   "id": "careful-norfolk",
   "metadata": {},
   "source": [
    "<h2>ECUACIÓN NORMAL</h2>                                                         \n",
    "<ol>\n",
    "    <li>Conformación de la matriz X a partir de las variables de entrada:\n",
    "         $$\n",
    "           \\begin{bmatrix}\n",
    "            1\\quad x_1^0\\quad x_2^0\\quad x_3^0\\\\\n",
    "            1\\quad x_1^1\\quad x_2^1\\quad x_3^1\\\\\n",
    "            ... \\\\\n",
    "            1\\quad x_1^m\\quad x_2^m\\quad x_3^m\n",
    "           \\end{bmatrix}\n",
    "        $$\n",
    "    </li>\n",
    "</ol>"
   ]
  },
  {
   "cell_type": "code",
   "execution_count": 3,
   "id": "intermediate-intersection",
   "metadata": {},
   "outputs": [],
   "source": [
    "Xtest = dfHelados.loc[:,'income':'temp'].values\n",
    "x0 = np.ones(shape = (Xtest.shape[0],1))\n",
    "X = np.hstack((x0, Xtest))"
   ]
  },
  {
   "cell_type": "markdown",
   "id": "double-installation",
   "metadata": {},
   "source": [
    "<ol start=\"2\">\n",
    "    <li>Conformación del vector de valores de salida:\n",
    "        $$\n",
    "        \\begin{bmatrix}\n",
    "            y^0\\\\\n",
    "            y^1\\\\\n",
    "            ... \\\\\n",
    "            y^m\n",
    "        \\end{bmatrix}\n",
    "        $$\n",
    "    </li>\n",
    "</ol>"
   ]
  },
  {
   "cell_type": "code",
   "execution_count": 4,
   "id": "executed-reserve",
   "metadata": {},
   "outputs": [],
   "source": [
    "Y = dfHelados.loc[:,'cons'].values"
   ]
  },
  {
   "cell_type": "markdown",
   "id": "refined-access",
   "metadata": {},
   "source": [
    "<ol start=\"3\">\n",
    "    <li>Generación de la matriz transpuesta de X:\n",
    "    </li>\n",
    "</ol>"
   ]
  },
  {
   "cell_type": "code",
   "execution_count": 5,
   "id": "fleet-omaha",
   "metadata": {},
   "outputs": [],
   "source": [
    "Xtrans = X.transpose()"
   ]
  },
  {
   "cell_type": "markdown",
   "id": "fatal-acoustic",
   "metadata": {},
   "source": [
    "<ol start=\"4\">\n",
    "    <li>Aplicación de la fórmula de ecuación normal:\n",
    "        $$\n",
    "            \\theta = \\left(X^T X\\right)^{-1}\\left(X^T y\\right)\n",
    "        $$\n",
    "    </li>\n",
    "</ol>"
   ]
  },
  {
   "cell_type": "code",
   "execution_count": 6,
   "id": "regular-childhood",
   "metadata": {},
   "outputs": [
    {
     "data": {
      "text/plain": [
       "array([ 0.19731507,  0.00330776, -1.04441399,  0.00345843])"
      ]
     },
     "execution_count": 6,
     "metadata": {},
     "output_type": "execute_result"
    }
   ],
   "source": [
    "theta = np.linalg.inv(Xtrans.dot(X)).dot(Xtrans).dot(Y)\n",
    "theta"
   ]
  },
  {
   "cell_type": "markdown",
   "id": "naughty-fever",
   "metadata": {},
   "source": [
    "<ol start=\"5\">\n",
    "    <li>Cálculo de los valores de salida predichos:\n",
    "        $$\n",
    "            h_{\\theta}(x)=\\theta_0x_0+\\theta_1x_1+\\theta_2x_2+\\theta_3x_3\n",
    "        $$\n",
    "    </li>\n",
    "</ol>"
   ]
  },
  {
   "cell_type": "code",
   "execution_count": 7,
   "id": "circular-reach",
   "metadata": {},
   "outputs": [],
   "source": [
    "h = X.dot(theta)"
   ]
  },
  {
   "cell_type": "code",
   "execution_count": 8,
   "id": "grand-tampa",
   "metadata": {},
   "outputs": [
    {
     "data": {
      "application/vnd.jupyter.widget-view+json": {
       "model_id": "d8ea431259ba44d0a9da193303c62e64",
       "version_major": 2,
       "version_minor": 0
      },
      "text/plain": [
       "Canvas(toolbar=Toolbar(toolitems=[('Home', 'Reset original view', 'home', 'home'), ('Back', 'Back to previous …"
      ]
     },
     "metadata": {},
     "output_type": "display_data"
    }
   ],
   "source": [
    "fig, ax = plt.subplots(figsize=(8,4),tight_layout = True)\n",
    "ax.scatter(np.arange(0,30),h,marker='x',c = np.linspace(0,1,30), label='Consumo predicho',alpha = 0.9)\n",
    "ax.scatter(np.arange(0,30),Y,marker='o',c = np.linspace(0,1,30), label='Consumo real',alpha = 0.9)\n",
    "ax.grid(True)\n",
    "ax.legend();"
   ]
  },
  {
   "cell_type": "markdown",
   "id": "consolidated-universal",
   "metadata": {},
   "source": [
    "<h2>GRADIENTE DESCENDENTE</h2>              "
   ]
  },
  {
   "cell_type": "markdown",
   "id": "hairy-version",
   "metadata": {},
   "source": [
    "<ol>\n",
    "    <li>Normalización y escalamiento de las variables de entrada:\n",
    "         $$\n",
    "            x_i := \\frac{x_i-\\mu_i}{\\sigma}\n",
    "         $$\n",
    "    </li>\n",
    "</ol>"
   ]
  },
  {
   "cell_type": "code",
   "execution_count": 9,
   "id": "adult-supervision",
   "metadata": {},
   "outputs": [
    {
     "data": {
      "text/html": [
       "<div>\n",
       "<style scoped>\n",
       "    .dataframe tbody tr th:only-of-type {\n",
       "        vertical-align: middle;\n",
       "    }\n",
       "\n",
       "    .dataframe tbody tr th {\n",
       "        vertical-align: top;\n",
       "    }\n",
       "\n",
       "    .dataframe thead th {\n",
       "        text-align: right;\n",
       "    }\n",
       "</style>\n",
       "<table border=\"1\" class=\"dataframe\">\n",
       "  <thead>\n",
       "    <tr style=\"text-align: right;\">\n",
       "      <th></th>\n",
       "      <th>income</th>\n",
       "      <th>price</th>\n",
       "      <th>temp</th>\n",
       "    </tr>\n",
       "  </thead>\n",
       "  <tbody>\n",
       "    <tr>\n",
       "      <th>0</th>\n",
       "      <td>-1.056752</td>\n",
       "      <td>-0.635305</td>\n",
       "      <td>-0.493243</td>\n",
       "    </tr>\n",
       "    <tr>\n",
       "      <th>1</th>\n",
       "      <td>-0.896638</td>\n",
       "      <td>0.803121</td>\n",
       "      <td>0.420170</td>\n",
       "    </tr>\n",
       "    <tr>\n",
       "      <th>2</th>\n",
       "      <td>-0.576410</td>\n",
       "      <td>0.203777</td>\n",
       "      <td>0.846430</td>\n",
       "    </tr>\n",
       "    <tr>\n",
       "      <th>3</th>\n",
       "      <td>-0.736524</td>\n",
       "      <td>0.563383</td>\n",
       "      <td>1.150901</td>\n",
       "    </tr>\n",
       "    <tr>\n",
       "      <th>4</th>\n",
       "      <td>-1.376980</td>\n",
       "      <td>-0.395567</td>\n",
       "      <td>1.211795</td>\n",
       "    </tr>\n",
       "  </tbody>\n",
       "</table>\n",
       "</div>"
      ],
      "text/plain": [
       "     income     price      temp\n",
       "0 -1.056752 -0.635305 -0.493243\n",
       "1 -0.896638  0.803121  0.420170\n",
       "2 -0.576410  0.203777  0.846430\n",
       "3 -0.736524  0.563383  1.150901\n",
       "4 -1.376980 -0.395567  1.211795"
      ]
     },
     "execution_count": 9,
     "metadata": {},
     "output_type": "execute_result"
    }
   ],
   "source": [
    "col_mask = ['income', 'price', 'temp']\n",
    "dfHelados2 = dfHelados.loc[:, col_mask]\n",
    "dfH_norm = (dfHelados2 - dfHelados2.mean(axis = 0)) / dfHelados2.std(axis = 0)  \n",
    "dfH_norm.head(5)"
   ]
  },
  {
   "cell_type": "markdown",
   "id": "physical-aging",
   "metadata": {},
   "source": [
    "<ol start=\"2\">\n",
    "    <li>Conformación de la matriz X a partir de las variables de entrada normalizadas:\n",
    "         $$\n",
    "           \\begin{bmatrix}\n",
    "            1\\quad x_1^0\\quad x_2^0\\quad x_3^0\\\\\n",
    "            1\\quad x_1^1\\quad x_2^1\\quad x_3^1\\\\\n",
    "            ... \\\\\n",
    "            1\\quad x_1^m\\quad x_2^m\\quad x_3^m\n",
    "           \\end{bmatrix}\n",
    "        $$\n",
    "    </li>\n",
    "</ol>"
   ]
  },
  {
   "cell_type": "code",
   "execution_count": 10,
   "id": "noticed-boards",
   "metadata": {},
   "outputs": [],
   "source": [
    "X_gd = dfH_norm.values\n",
    "x0_gd = np.ones(shape = (X_gd.shape[0],1))\n",
    "X_gd = np.hstack((x0_gd, X_gd))"
   ]
  },
  {
   "cell_type": "markdown",
   "id": "seasonal-division",
   "metadata": {},
   "source": [
    "<ol start=\"3\">\n",
    "    <li>Conformación del vector de valores de salida:\n",
    "        $$\n",
    "        \\begin{bmatrix}\n",
    "            y^0\\\\\n",
    "            y^1\\\\\n",
    "            ... \\\\\n",
    "            y^m\n",
    "        \\end{bmatrix}\n",
    "        $$\n",
    "    </li>\n",
    "</ol>"
   ]
  },
  {
   "cell_type": "code",
   "execution_count": 11,
   "id": "ambient-student",
   "metadata": {},
   "outputs": [],
   "source": [
    "Y_gd = dfHelados.loc[:,'cons'].values.reshape(-1, 1)"
   ]
  },
  {
   "cell_type": "markdown",
   "id": "gentle-simpson",
   "metadata": {},
   "source": [
    "<ol start=\"4\">\n",
    "    <li>Selección del parámetro $\\alpha$\n",
    "    </li>\n",
    "</ol>"
   ]
  },
  {
   "cell_type": "code",
   "execution_count": 12,
   "id": "careful-uruguay",
   "metadata": {},
   "outputs": [],
   "source": [
    "alpha_slider = widgets.FloatSlider(min = 0,max = 0.9,step = 0.001,value = 0.5,description = r'$\\alpha$')"
   ]
  },
  {
   "cell_type": "markdown",
   "id": "automated-president",
   "metadata": {},
   "source": [
    "<ol start=\"5\">\n",
    "    <li>Aplicación del algoritmo iterativo de gradiente descendente:\n",
    "        $$\n",
    "        \\theta_j := \\theta_j - \\alpha \\frac{\\partial}{\\partial\\theta_j}J(\\theta_0, \\theta_1)\n",
    "        $$\n",
    "    </li>\n",
    "</ol>"
   ]
  },
  {
   "cell_type": "code",
   "execution_count": 13,
   "id": "opposite-thirty",
   "metadata": {},
   "outputs": [],
   "source": [
    "def plot_J_gd(alpha,X,Y):\n",
    "    m = X.shape[0]\n",
    "    \n",
    "    t = np.zeros(shape = (X.shape[1],1))\n",
    "     \n",
    "    J = np.array([])\n",
    "\n",
    "    for i in range(0,10):\n",
    "        h_gd = X.dot(t[:,-1])\n",
    "        h_gd = h_gd.reshape(-1, 1)\n",
    "        J = np.append(J, 1/(2 * m) * np.sum(np.square(h_gd - Y)))\n",
    "        t_temp = np.array([]) \n",
    "        for j in range(0,t.shape[0]):\n",
    "            t_temp = np.append(t_temp, t[j,i] - alpha/m * (X[:,j].reshape(1, -1).dot(h_gd - Y)))\n",
    "        t = np.hstack((t,t_temp.reshape(-1, 1)))\n",
    "    return t, J"
   ]
  },
  {
   "cell_type": "markdown",
   "id": "recorded-former",
   "metadata": {},
   "source": [
    "<ol start=\"6\">\n",
    "    <li>Cálculo de los valores de salida predichos:\n",
    "        $$\n",
    "            h_{\\theta}(x)=\\theta_0x_0+\\theta_1x_1+\\theta_2x_2+\\theta_3x_3\n",
    "        $$\n",
    "    </li>\n",
    "</ol>"
   ]
  },
  {
   "cell_type": "code",
   "execution_count": 14,
   "id": "brown-variety",
   "metadata": {},
   "outputs": [],
   "source": [
    "def h_gd_value(t,X):\n",
    "    h = X.dot(t[:,-1])\n",
    "    return h"
   ]
  },
  {
   "cell_type": "code",
   "execution_count": 15,
   "id": "speaking-doctor",
   "metadata": {},
   "outputs": [],
   "source": [
    "plots_gd = widgets.Output()\n",
    "\n",
    "with plots_gd:\n",
    "    fig_gd, axs_gd = plt.subplots(3,1,figsize = (7,8),tight_layout = True)\n",
    "    fig_gd.suptitle(r'Gradiente descendente')\n",
    "    \n",
    "    axs_gd[1].set_title(fr'Variación de función costo $J(\\theta)$')\n",
    "    t_gd, J_gd = plot_J_gd(alpha_slider.value,X_gd,Y_gd)\n",
    "    linej, = axs_gd[1].plot(J_gd)\n",
    "    axs_gd[1].plot()\n",
    "    axs_gd[1].set_ylabel(r'$J(\\theta)$')   \n",
    "    axs_gd[1].set_xlabel(r'N° de iteraciones')   \n",
    "    axs_gd[1].grid(True)\n",
    "    \n",
    "    axs_gd[0].set_title(fr'Hipótesis vs Valores de salida reales')\n",
    "    h_gd = h_gd_value(t_gd,X_gd)\n",
    "    lineh, = axs_gd[0].plot(h_gd,'rx', label='Consumo predicho',alpha = 0.9)\n",
    "    axs_gd[0].scatter(np.arange(0,30),Y_gd,marker='o',label='Consumo real',alpha = 0.9)\n",
    "    axs_gd[0].legend()\n",
    "    axs_gd[0].grid(True)\n",
    "                        \n",
    "    axs_gd[2].set_title(fr'Variación de $\\theta_j$')\n",
    "    theta0, = axs_gd[2].plot(t_gd[0,:],label=r'$\\theta_0$')\n",
    "    theta1, = axs_gd[2].plot(t_gd[1,:],label=r'$\\theta_1$')\n",
    "    theta2, = axs_gd[2].plot(t_gd[2,:],label=r'$\\theta_2$')\n",
    "    theta3, = axs_gd[2].plot(t_gd[3,:],label=r'$\\theta_3$')\n",
    "    axs_gd[2].set_ylabel(r'$\\theta$')   \n",
    "    axs_gd[2].set_xlabel(r'N° de iteraciones')   \n",
    "    axs_gd[2].grid(True)\n",
    "    axs_gd[2].legend()"
   ]
  },
  {
   "cell_type": "code",
   "execution_count": 16,
   "id": "sound-visitor",
   "metadata": {},
   "outputs": [],
   "source": [
    "out_t0_gd = widgets.HTMLMath(value = fr'El valor de $\\theta_0$ después de 10 iteraciones es: {t_gd[0,-1]:.4f}')\n",
    "    \n",
    "out_t1_gd = widgets.HTMLMath(value = fr'El valor de $\\theta_1$ después de 10 iteraciones es: {t_gd[1,-1]:.4f}')\n",
    "\n",
    "out_t2_gd = widgets.HTMLMath(value = fr'El valor de $\\theta_2$ después de 10 iteraciones es: {t_gd[2,-1]:.4f}')\n",
    "    \n",
    "out_t3_gd = widgets.HTMLMath(value = fr'El valor de $\\theta_3$ después de 10 iteraciones es: {t_gd[3,-1]:.4f}')\n"
   ]
  },
  {
   "cell_type": "code",
   "execution_count": 17,
   "id": "affiliated-dollar",
   "metadata": {},
   "outputs": [
    {
     "data": {
      "application/vnd.jupyter.widget-view+json": {
       "model_id": "d49ede832d80424eb1c5b7ef76bcee9b",
       "version_major": 2,
       "version_minor": 0
      },
      "text/plain": [
       "VBox(children=(Output(outputs=({'output_type': 'display_data', 'data': {'text/plain': \"Canvas(toolbar=Toolbar(…"
      ]
     },
     "metadata": {},
     "output_type": "display_data"
    }
   ],
   "source": [
    "def update_gd (change):\n",
    "    t_gd, J_gd = plot_J_gd(alpha_slider.value,X_gd,Y_gd)\n",
    "    linej.set_ydata(J_gd)\n",
    "    h_gd = h_gd_value(t_gd,X_gd)\n",
    "    lineh.set_ydata(h_gd)\n",
    "    theta0.set_ydata(t_gd[0,:])\n",
    "    theta1.set_ydata(t_gd[1,:])\n",
    "    theta2.set_ydata(t_gd[2,:])\n",
    "    theta3.set_ydata(t_gd[3,:])\n",
    "    out_t0_gd.value = fr'El valor de $\\theta_0$ después de 10 iteraciones es: {t_gd[0,-1]:.4f}'\n",
    "    out_t1_gd.value = fr'El valor de $\\theta_1$ después de 10 iteraciones es: {t_gd[1,-1]:.4f}'\n",
    "    out_t2_gd.value = fr'El valor de $\\theta_2$ después de 10 iteraciones es: {t_gd[2,-1]:.4f}'\n",
    "    out_t3_gd.value = fr'El valor de $\\theta_3$ después de 10 iteraciones es: {t_gd[3,-1]:.4f}'\n",
    "    \n",
    "alpha_slider.observe(update_gd ,'value')\n",
    "\n",
    "widgets.VBox([plots_gd,alpha_slider, out_t0_gd, out_t1_gd, out_t2_gd, out_t3_gd],layout=layout)\n",
    "\n"
   ]
  },
  {
   "cell_type": "markdown",
   "id": "dependent-limitation",
   "metadata": {},
   "source": [
    "<div class=\"alert alert-block alert-success\">\n",
    "<b>Conclusiones:</b>\n",
    "    <ol>\n",
    "    <li>Si $\\alpha$ es muy pequeño, la convergencia del gradiente descendente es lenta (requiere más iteraciones).</li>\n",
    "    <li>El valor de la función de costo $J(\\theta)$ decrece en cada iteración.</li>\n",
    "    <li>Mientras menor sea el valor de la función costo $J(\\theta)$, la función hipótesis realizará mejores predicciones de los valores de salida $y$.</li>\n",
    "</ol>\n",
    "    \n",
    "</div>"
   ]
  },
  {
   "cell_type": "markdown",
   "id": "excessive-treasurer",
   "metadata": {},
   "source": [
    "<h3>Gradiente descendente sin normalizar</h3>        "
   ]
  },
  {
   "cell_type": "code",
   "execution_count": 18,
   "id": "understanding-poker",
   "metadata": {},
   "outputs": [
    {
     "data": {
      "text/html": [
       "<div>\n",
       "<style scoped>\n",
       "    .dataframe tbody tr th:only-of-type {\n",
       "        vertical-align: middle;\n",
       "    }\n",
       "\n",
       "    .dataframe tbody tr th {\n",
       "        vertical-align: top;\n",
       "    }\n",
       "\n",
       "    .dataframe thead th {\n",
       "        text-align: right;\n",
       "    }\n",
       "</style>\n",
       "<table border=\"1\" class=\"dataframe\">\n",
       "  <thead>\n",
       "    <tr style=\"text-align: right;\">\n",
       "      <th></th>\n",
       "      <th>income</th>\n",
       "      <th>price</th>\n",
       "      <th>temp</th>\n",
       "    </tr>\n",
       "  </thead>\n",
       "  <tbody>\n",
       "    <tr>\n",
       "      <th>0</th>\n",
       "      <td>78</td>\n",
       "      <td>0.270</td>\n",
       "      <td>41</td>\n",
       "    </tr>\n",
       "    <tr>\n",
       "      <th>1</th>\n",
       "      <td>79</td>\n",
       "      <td>0.282</td>\n",
       "      <td>56</td>\n",
       "    </tr>\n",
       "    <tr>\n",
       "      <th>2</th>\n",
       "      <td>81</td>\n",
       "      <td>0.277</td>\n",
       "      <td>63</td>\n",
       "    </tr>\n",
       "    <tr>\n",
       "      <th>3</th>\n",
       "      <td>80</td>\n",
       "      <td>0.280</td>\n",
       "      <td>68</td>\n",
       "    </tr>\n",
       "    <tr>\n",
       "      <th>4</th>\n",
       "      <td>76</td>\n",
       "      <td>0.272</td>\n",
       "      <td>69</td>\n",
       "    </tr>\n",
       "  </tbody>\n",
       "</table>\n",
       "</div>"
      ],
      "text/plain": [
       "   income  price  temp\n",
       "0      78  0.270    41\n",
       "1      79  0.282    56\n",
       "2      81  0.277    63\n",
       "3      80  0.280    68\n",
       "4      76  0.272    69"
      ]
     },
     "execution_count": 18,
     "metadata": {},
     "output_type": "execute_result"
    }
   ],
   "source": [
    "dfHelados2.head(5)"
   ]
  },
  {
   "cell_type": "code",
   "execution_count": 19,
   "id": "soviet-bridal",
   "metadata": {},
   "outputs": [],
   "source": [
    "X_gdSn = dfHelados2.values\n",
    "x0_gdSn = np.ones(shape = (X_gdSn.shape[0],1))\n",
    "X_gdSn = np.hstack((x0_gdSn, X_gdSn))\n",
    "\n",
    "Y_gdSn = dfHelados.loc[:,'cons'].values.reshape(-1, 1)"
   ]
  },
  {
   "cell_type": "code",
   "execution_count": 20,
   "id": "acquired-immunology",
   "metadata": {},
   "outputs": [],
   "source": [
    "alphaSn_slider = widgets.FloatSlider(min = 0,max = 0.09,step = 0.001,value = 0.05,description = r'$\\alpha$')"
   ]
  },
  {
   "cell_type": "code",
   "execution_count": 21,
   "id": "rubber-career",
   "metadata": {},
   "outputs": [],
   "source": [
    "plots_gdSn = widgets.Output()\n",
    "\n",
    "with plots_gdSn:\n",
    "    fig_gdSn, axs_gdSn = plt.subplots(3,1,figsize = (7,8),tight_layout = True)\n",
    "    fig_gdSn.suptitle(r'Gradiente descendente sin normalización')\n",
    "    \n",
    "    axs_gdSn[1].set_title(fr'Variación de función costo $J(\\theta)$')\n",
    "    t_gdSn, J_gdSn = plot_J_gd(alphaSn_slider.value,X_gdSn,Y_gdSn)\n",
    "    linejSn, = axs_gdSn[1].plot(J_gdSn)\n",
    "    axs_gdSn[1].set_ylabel(r'$J(\\theta)$')   \n",
    "    axs_gdSn[1].set_xlabel(r'N° de iteraciones')   \n",
    "    axs_gdSn[1].grid(True)\n",
    "    \n",
    "    axs_gdSn[0].set_title(fr'Hipótesis vs Valores de salida reales')\n",
    "    h_gdSn = h_gd_value(t_gdSn,X_gdSn)\n",
    "    linehSn, = axs_gdSn[0].plot(h_gdSn,'rx', label='Consumo predicho',alpha = 0.9)\n",
    "    axs_gdSn[0].scatter(np.arange(0,30),Y_gdSn,marker='o',label='Consumo real',alpha = 0.9)\n",
    "    axs_gdSn[0].legend()\n",
    "    axs_gdSn[0].grid(True)\n",
    "    \n",
    "    axs_gdSn[2].set_title(fr'Variación de $\\theta_j$')\n",
    "    theta0Sn, = axs_gdSn[2].plot(t_gdSn[0,:],label=r'$\\theta_0$')\n",
    "    theta1Sn, = axs_gdSn[2].plot(t_gdSn[1,:],label=r'$\\theta_1$')\n",
    "    theta2Sn, = axs_gdSn[2].plot(t_gdSn[2,:],label=r'$\\theta_2$')\n",
    "    theta3Sn, = axs_gdSn[2].plot(t_gdSn[3,:],label=r'$\\theta_3$')\n",
    "    axs_gdSn[2].set_ylabel(r'$\\theta$')   \n",
    "    axs_gdSn[2].set_xlabel(r'N° de iteraciones')   \n",
    "    axs_gdSn[2].grid(True)\n",
    "    axs_gdSn[2].legend()\n",
    "    "
   ]
  },
  {
   "cell_type": "code",
   "execution_count": 22,
   "id": "equivalent-chicago",
   "metadata": {},
   "outputs": [],
   "source": [
    "out_t0_gdSn = widgets.HTMLMath(value = fr'El valor de $\\theta_0$ después de 10 iteraciones es: {t_gdSn[0,-1]:.4e}')\n",
    "    \n",
    "out_t1_gdSn = widgets.HTMLMath(value = fr'El valor de $\\theta_1$ después de 10 iteraciones es: {t_gdSn[1,-1]:.4e}')\n",
    "\n",
    "out_t2_gdSn = widgets.HTMLMath(value = fr'El valor de $\\theta_2$ después de 10 iteraciones es: {t_gdSn[2,-1]:.4e}')\n",
    "    \n",
    "out_t3_gdSn = widgets.HTMLMath(value = fr'El valor de $\\theta_3$ después de 10 iteraciones es: {t_gdSn[3,-1]:.4e}')"
   ]
  },
  {
   "cell_type": "code",
   "execution_count": 23,
   "id": "specialized-gilbert",
   "metadata": {},
   "outputs": [
    {
     "data": {
      "application/vnd.jupyter.widget-view+json": {
       "model_id": "05f3acf104244f7c8b2485d555925c64",
       "version_major": 2,
       "version_minor": 0
      },
      "text/plain": [
       "VBox(children=(Output(outputs=({'output_type': 'display_data', 'data': {'text/plain': \"Canvas(toolbar=Toolbar(…"
      ]
     },
     "metadata": {},
     "output_type": "display_data"
    }
   ],
   "source": [
    "def update_gdSn (change):\n",
    "    t_gdSn, J_gdSn = plot_J_gd(alphaSn_slider.value,X_gdSn,Y_gdSn)\n",
    "    axs_gdSn[1].cla()\n",
    "    linejSn, = axs_gdSn[1].plot(J_gdSn)\n",
    "    axs_gdSn[1].set_ylabel(r'$J(\\theta)$')   \n",
    "    axs_gdSn[1].set_xlabel(r'N° de iteraciones')  \n",
    "    axs_gdSn[1].grid(True)\n",
    "    \n",
    "    h_gdSn = h_gd_value(t_gdSn,X_gdSn)\n",
    "    axs_gdSn[0].cla()\n",
    "    linehSn, = axs_gdSn[0].plot(h_gdSn,'rx', label='Consumo predicho',alpha = 0.9)\n",
    "    axs_gdSn[0].scatter(np.arange(0,30),Y_gdSn,marker='o',label='Consumo real',alpha = 0.9)\n",
    "    axs_gdSn[0].legend()\n",
    "    axs_gdSn[0].grid(True)\n",
    "    \n",
    "    axs_gdSn[2].cla()\n",
    "    theta0Sn, = axs_gdSn[2].plot(t_gdSn[0,:],label=r'$\\theta_0$')\n",
    "    theta1Sn, = axs_gdSn[2].plot(t_gdSn[1,:],label=r'$\\theta_1$')\n",
    "    theta2Sn, = axs_gdSn[2].plot(t_gdSn[2,:],label=r'$\\theta_2$')\n",
    "    theta3Sn, = axs_gdSn[2].plot(t_gdSn[3,:],label=r'$\\theta_3$')\n",
    "    axs_gdSn[2].set_ylabel(r'$\\theta$')   \n",
    "    axs_gdSn[2].set_xlabel(r'N° de iteraciones')   \n",
    "    axs_gdSn[2].grid(True)\n",
    "    axs_gdSn[2].legend();\n",
    "\n",
    "    out_t0_gdSn.value = fr'El valor de $\\theta_0$ después de 10 iteraciones es: {t_gdSn[0,-1]:.4e}'\n",
    "    out_t1_gdSn.value = fr'El valor de $\\theta_1$ después de 10 iteraciones es: {t_gdSn[1,-1]:.4e}'\n",
    "    out_t2_gdSn.value = fr'El valor de $\\theta_2$ después de 10 iteraciones es: {t_gdSn[2,-1]:.4e}'\n",
    "    out_t3_gdSn.value = fr'El valor de $\\theta_3$ después de 10 iteraciones es: {t_gdSn[3,-1]:.4e}'\n",
    "    \n",
    "alphaSn_slider.observe(update_gdSn ,'value')\n",
    "\n",
    "widgets.VBox([plots_gdSn,alphaSn_slider, out_t0_gdSn, out_t1_gdSn, out_t2_gdSn, out_t3_gdSn],layout=layout)\n"
   ]
  },
  {
   "cell_type": "markdown",
   "id": "noble-ethiopia",
   "metadata": {},
   "source": [
    "<div class=\"alert alert-block alert-danger\">\n",
    "<b>Conclusiones:</b> \n",
    "    <ol>\n",
    "        <li>Si las variables de entrada (features) $x_j$ poseen rangos de valores muy diferentes, \n",
    "            es <b>necesario</b> realizar la normalización de las mismas para asegurar la \n",
    "            convergencia del gradiente descendente.</li>\n",
    "    </ol>\n",
    "</div>"
   ]
  },
  {
   "cell_type": "markdown",
   "id": "fallen-latvia",
   "metadata": {},
   "source": [
    "<h3>Gradiente descendente con regularización</h3>    "
   ]
  },
  {
   "cell_type": "code",
   "execution_count": 24,
   "id": "local-triangle",
   "metadata": {},
   "outputs": [],
   "source": [
    "df_util = dfH_norm.loc[:,['income','price','temp']]"
   ]
  },
  {
   "cell_type": "code",
   "execution_count": 25,
   "id": "aggressive-representation",
   "metadata": {},
   "outputs": [],
   "source": [
    "extra1 = df_util['income'].values * 2 + np.random.randn(df_util.shape[0]) \n",
    "df_extra1 = pd.DataFrame(extra1)\n",
    "df_extra1 = (df_extra1 - df_extra1.mean(axis = 0)) / df_extra1.std(axis = 0)  \n"
   ]
  },
  {
   "cell_type": "code",
   "execution_count": 26,
   "id": "conceptual-arrival",
   "metadata": {},
   "outputs": [
    {
     "data": {
      "text/html": [
       "<div>\n",
       "<style scoped>\n",
       "    .dataframe tbody tr th:only-of-type {\n",
       "        vertical-align: middle;\n",
       "    }\n",
       "\n",
       "    .dataframe tbody tr th {\n",
       "        vertical-align: top;\n",
       "    }\n",
       "\n",
       "    .dataframe thead th {\n",
       "        text-align: right;\n",
       "    }\n",
       "</style>\n",
       "<table border=\"1\" class=\"dataframe\">\n",
       "  <thead>\n",
       "    <tr style=\"text-align: right;\">\n",
       "      <th></th>\n",
       "      <th>income</th>\n",
       "      <th>price</th>\n",
       "      <th>temp</th>\n",
       "      <th>0</th>\n",
       "    </tr>\n",
       "  </thead>\n",
       "  <tbody>\n",
       "    <tr>\n",
       "      <th>0</th>\n",
       "      <td>-1.056752</td>\n",
       "      <td>-0.635305</td>\n",
       "      <td>-0.493243</td>\n",
       "      <td>-0.820921</td>\n",
       "    </tr>\n",
       "    <tr>\n",
       "      <th>1</th>\n",
       "      <td>-0.896638</td>\n",
       "      <td>0.803121</td>\n",
       "      <td>0.420170</td>\n",
       "      <td>-1.307804</td>\n",
       "    </tr>\n",
       "    <tr>\n",
       "      <th>2</th>\n",
       "      <td>-0.576410</td>\n",
       "      <td>0.203777</td>\n",
       "      <td>0.846430</td>\n",
       "      <td>-0.288594</td>\n",
       "    </tr>\n",
       "    <tr>\n",
       "      <th>3</th>\n",
       "      <td>-0.736524</td>\n",
       "      <td>0.563383</td>\n",
       "      <td>1.150901</td>\n",
       "      <td>-1.217766</td>\n",
       "    </tr>\n",
       "    <tr>\n",
       "      <th>4</th>\n",
       "      <td>-1.376980</td>\n",
       "      <td>-0.395567</td>\n",
       "      <td>1.211795</td>\n",
       "      <td>-0.799509</td>\n",
       "    </tr>\n",
       "  </tbody>\n",
       "</table>\n",
       "</div>"
      ],
      "text/plain": [
       "     income     price      temp         0\n",
       "0 -1.056752 -0.635305 -0.493243 -0.820921\n",
       "1 -0.896638  0.803121  0.420170 -1.307804\n",
       "2 -0.576410  0.203777  0.846430 -0.288594\n",
       "3 -0.736524  0.563383  1.150901 -1.217766\n",
       "4 -1.376980 -0.395567  1.211795 -0.799509"
      ]
     },
     "execution_count": 26,
     "metadata": {},
     "output_type": "execute_result"
    }
   ],
   "source": [
    "dfH_reg = pd.concat([df_util, df_extra1],axis=1)\n",
    "dfH_reg.head(5)"
   ]
  },
  {
   "cell_type": "code",
   "execution_count": 27,
   "id": "parliamentary-revision",
   "metadata": {},
   "outputs": [
    {
     "data": {
      "text/html": [
       "<style type=\"text/css\">\n",
       "#T_31bb4_row0_col0, #T_31bb4_row1_col1, #T_31bb4_row2_col2, #T_31bb4_row3_col3 {\n",
       "  background-color: #b40426;\n",
       "  color: #f1f1f1;\n",
       "}\n",
       "#T_31bb4_row0_col1, #T_31bb4_row2_col0, #T_31bb4_row2_col1, #T_31bb4_row2_col3, #T_31bb4_row3_col2 {\n",
       "  background-color: #3b4cc0;\n",
       "  color: #f1f1f1;\n",
       "}\n",
       "#T_31bb4_row0_col2 {\n",
       "  background-color: #4a63d3;\n",
       "  color: #f1f1f1;\n",
       "}\n",
       "#T_31bb4_row0_col3 {\n",
       "  background-color: #d44e41;\n",
       "  color: #f1f1f1;\n",
       "}\n",
       "#T_31bb4_row1_col0 {\n",
       "  background-color: #6e90f2;\n",
       "  color: #f1f1f1;\n",
       "}\n",
       "#T_31bb4_row1_col2 {\n",
       "  background-color: #7ea1fa;\n",
       "  color: #f1f1f1;\n",
       "}\n",
       "#T_31bb4_row1_col3 {\n",
       "  background-color: #a3c2fe;\n",
       "  color: #000000;\n",
       "}\n",
       "#T_31bb4_row3_col0 {\n",
       "  background-color: #d55042;\n",
       "  color: #f1f1f1;\n",
       "}\n",
       "#T_31bb4_row3_col1 {\n",
       "  background-color: #6485ec;\n",
       "  color: #f1f1f1;\n",
       "}\n",
       "</style>\n",
       "<table id=\"T_31bb4_\">\n",
       "  <thead>\n",
       "    <tr>\n",
       "      <th class=\"blank level0\" >&nbsp;</th>\n",
       "      <th class=\"col_heading level0 col0\" >income</th>\n",
       "      <th class=\"col_heading level0 col1\" >price</th>\n",
       "      <th class=\"col_heading level0 col2\" >temp</th>\n",
       "      <th class=\"col_heading level0 col3\" >0</th>\n",
       "    </tr>\n",
       "  </thead>\n",
       "  <tbody>\n",
       "    <tr>\n",
       "      <th id=\"T_31bb4_level0_row0\" class=\"row_heading level0 row0\" >income</th>\n",
       "      <td id=\"T_31bb4_row0_col0\" class=\"data row0 col0\" >1.000000</td>\n",
       "      <td id=\"T_31bb4_row0_col1\" class=\"data row0 col1\" >-0.107479</td>\n",
       "      <td id=\"T_31bb4_row0_col2\" class=\"data row0 col2\" >-0.324709</td>\n",
       "      <td id=\"T_31bb4_row0_col3\" class=\"data row0 col3\" >0.873207</td>\n",
       "    </tr>\n",
       "    <tr>\n",
       "      <th id=\"T_31bb4_level0_row1\" class=\"row_heading level0 row1\" >price</th>\n",
       "      <td id=\"T_31bb4_row1_col0\" class=\"data row1 col0\" >-0.107479</td>\n",
       "      <td id=\"T_31bb4_row1_col1\" class=\"data row1 col1\" >1.000000</td>\n",
       "      <td id=\"T_31bb4_row1_col2\" class=\"data row1 col2\" >-0.108206</td>\n",
       "      <td id=\"T_31bb4_row1_col3\" class=\"data row1 col3\" >0.039584</td>\n",
       "    </tr>\n",
       "    <tr>\n",
       "      <th id=\"T_31bb4_level0_row2\" class=\"row_heading level0 row2\" >temp</th>\n",
       "      <td id=\"T_31bb4_row2_col0\" class=\"data row2 col0\" >-0.324709</td>\n",
       "      <td id=\"T_31bb4_row2_col1\" class=\"data row2 col1\" >-0.108206</td>\n",
       "      <td id=\"T_31bb4_row2_col2\" class=\"data row2 col2\" >1.000000</td>\n",
       "      <td id=\"T_31bb4_row2_col3\" class=\"data row2 col3\" >-0.398730</td>\n",
       "    </tr>\n",
       "    <tr>\n",
       "      <th id=\"T_31bb4_level0_row3\" class=\"row_heading level0 row3\" >0</th>\n",
       "      <td id=\"T_31bb4_row3_col0\" class=\"data row3 col0\" >0.873207</td>\n",
       "      <td id=\"T_31bb4_row3_col1\" class=\"data row3 col1\" >0.039584</td>\n",
       "      <td id=\"T_31bb4_row3_col2\" class=\"data row3 col2\" >-0.398730</td>\n",
       "      <td id=\"T_31bb4_row3_col3\" class=\"data row3 col3\" >1.000000</td>\n",
       "    </tr>\n",
       "  </tbody>\n",
       "</table>\n"
      ],
      "text/plain": [
       "<pandas.io.formats.style.Styler at 0x7f8b788862b0>"
      ]
     },
     "execution_count": 27,
     "metadata": {},
     "output_type": "execute_result"
    }
   ],
   "source": [
    "dfH_reg.corr().style.background_gradient(cmap='coolwarm')"
   ]
  },
  {
   "cell_type": "code",
   "execution_count": 28,
   "id": "attached-edwards",
   "metadata": {},
   "outputs": [],
   "source": [
    "X_reg = dfH_reg.values\n",
    "x0_reg = np.ones(shape = (X_reg.shape[0],1))\n",
    "X_reg = np.hstack((x0_reg, X_reg))"
   ]
  },
  {
   "cell_type": "code",
   "execution_count": 29,
   "id": "inappropriate-sculpture",
   "metadata": {},
   "outputs": [],
   "source": [
    "Y_reg = dfHelados.loc[:,'cons'].values.reshape(-1, 1)"
   ]
  },
  {
   "cell_type": "code",
   "execution_count": 30,
   "id": "sustained-producer",
   "metadata": {},
   "outputs": [],
   "source": [
    "alphaReg_slider = widgets.FloatSlider(min = 0,max = 0.9,step = 0.01,value = 0.5,description = r'$\\alpha$')\n",
    "lambdaReg_slider = widgets.FloatSlider(min = 0,max = 10.00,step = 0.1,value = 0.00,description = r'$\\lambda$')"
   ]
  },
  {
   "cell_type": "code",
   "execution_count": 31,
   "id": "interested-deputy",
   "metadata": {},
   "outputs": [],
   "source": [
    "def plot_J_gdReg(alpha, X, Y, l):\n",
    "    m = X.shape[0]\n",
    "    \n",
    "    t = np.zeros(shape = (X.shape[1],1))\n",
    "     \n",
    "    J = np.array([])\n",
    "\n",
    "    for i in range(0,20):\n",
    "        h_gd = X.dot(t[:,-1])\n",
    "        h_gd = h_gd.reshape(-1, 1)\n",
    "        \n",
    "        J = np.append(J, 1/(2 * m) *(np.sum(np.square(h_gd - Y)) + l * sum(np.square(t[1:,i]))))\n",
    "            \n",
    "        t_temp = np.array([]) \n",
    "        \n",
    "        for j in range(0,t.shape[0]):\n",
    "            if j == 0:\n",
    "                t_temp = np.append(t_temp, t[j,i] - alpha/m * (X[:,j].reshape(1, -1).dot(h_gd - Y)))\n",
    "            else:\n",
    "                t_temp = np.append(t_temp, t[j,i] - alpha/m * ((X[:,j].reshape(1, -1).dot(h_gd - Y)) + l * t[j,i]))\n",
    "                \n",
    "        t = np.hstack((t,t_temp.reshape(-1, 1)))\n",
    "    return t, J"
   ]
  },
  {
   "cell_type": "code",
   "execution_count": 32,
   "id": "numeric-realtor",
   "metadata": {},
   "outputs": [],
   "source": [
    "plots_gdReg = widgets.Output()\n",
    "\n",
    "with plots_gdReg:\n",
    "    fig_gdReg, axs_gdReg = plt.subplots(2,1,figsize = (7,6),tight_layout = True)\n",
    "    fig_gdReg.suptitle(r'Gradiente descendente con regularización')\n",
    "    \n",
    "    axs_gdReg[1].set_title(r'Variación de función costo $J(\\theta)$')\n",
    "    t_gdReg, J_gdReg = plot_J_gdReg(alphaReg_slider.value,X_reg,Y_reg,lambdaReg_slider.value)\n",
    "    linejReg, = axs_gdReg[1].plot(J_gdReg)\n",
    "    axs_gdReg[1].set_ylabel(r'$J(\\theta)$')   \n",
    "    axs_gdReg[1].set_xlabel(r'N° de iteraciones')   \n",
    "    axs_gdReg[1].grid(True)\n",
    "    \n",
    "    axs_gdReg[0].set_title(r'Hipótesis vs Valores de salida reales')\n",
    "    h_gdReg = h_gd_value(t_gdReg,X_reg)\n",
    "    linehReg, = axs_gdReg[0].plot(h_gdReg,'rx', label='Consumo predicho',alpha = 0.9)\n",
    "    axs_gdReg[0].plot(Y_reg,'o',label='Consumo real',alpha = 0.9)\n",
    "    axs_gdReg[0].legend()\n",
    "    axs_gdReg[0].grid(True)\n",
    "    "
   ]
  },
  {
   "cell_type": "code",
   "execution_count": 33,
   "id": "stable-triple",
   "metadata": {},
   "outputs": [],
   "source": [
    "out_t1_gdReg = widgets.HTMLMath(value = fr'El valor de $\\theta_1$ después de 20 iteraciones es: {t_gdReg[1,-1]:.4f}')\n",
    "out_t4_gdReg = widgets.HTMLMath(value = fr'El valor de $\\theta_4$ después de 20 iteraciones es: {t_gdReg[4,-1]:.4f}')\n",
    "\n",
    "out_J = widgets.HTMLMath(value = fr'El valor de $J(\\theta)$  después de 20 iteraciones es: {J_gdReg[-1]:.5f}')"
   ]
  },
  {
   "cell_type": "code",
   "execution_count": 34,
   "id": "friendly-heading",
   "metadata": {},
   "outputs": [
    {
     "data": {
      "application/vnd.jupyter.widget-view+json": {
       "model_id": "0a4510261e4b428ea834c2f65c08da33",
       "version_major": 2,
       "version_minor": 0
      },
      "text/plain": [
       "VBox(children=(Output(outputs=({'output_type': 'display_data', 'data': {'text/plain': \"Canvas(toolbar=Toolbar(…"
      ]
     },
     "metadata": {},
     "output_type": "display_data"
    }
   ],
   "source": [
    "def update_gdReg (change):\n",
    "    t_gdReg, J_gdReg = plot_J_gdReg(alphaReg_slider.value,X_reg,Y_reg,lambdaReg_slider.value)\n",
    "    linejReg.set_ydata(J_gdReg)\n",
    "    h_gdReg = h_gd_value(t_gdReg,X_reg)\n",
    "    linehReg.set_ydata(h_gdReg)\n",
    "    \n",
    "    out_t1_gdReg.value = fr'El valor de $\\theta_1$ después de 20 iteraciones es: {t_gdReg[1,-1]:.4f}'\n",
    "    out_t4_gdReg.value = fr'El valor de $\\theta_4$ después de 20 iteraciones es: {t_gdReg[4,-1]:.4f}'\n",
    "    \n",
    "    out_J.value = fr'El valor de $J(\\theta)$ después de 20 iteraciones es: {J_gdReg[-1]:.5f}'\n",
    "    \n",
    "alphaReg_slider.observe(update_gdReg ,'value')\n",
    "lambdaReg_slider.observe(update_gdReg ,'value')\n",
    "\n",
    "widgets.VBox([plots_gdReg,alphaReg_slider,\\\n",
    "              lambdaReg_slider, \\\n",
    "              out_t1_gdReg, \\\n",
    "              out_t4_gdReg, \\\n",
    "              out_J], layout=layout)\n"
   ]
  },
  {
   "cell_type": "markdown",
   "id": "coordinated-mattress",
   "metadata": {},
   "source": [
    "<div  class=\"alert alert-block alert-warning\">\n",
    "<b>Conclusiones:</b> \n",
    "    <ol>\n",
    "        <li>Cuando existe una fuerte correlación entre 2 variables de entrada, es necesario aplicar regularización \n",
    "            para simplificar el modelo.</li>\n",
    "        <li>Una variable correlacionada a otra no tendrá un gran impacto en mejorar el modelo, solo le \n",
    "            agregará complejidad.</li>\n",
    "        <li>Aplicar regularización evita problemas de overfitting.</li>\n",
    "        <li>El parámetro $\\lambda$ es un número real positivo que controla el impacto de la regularización.</li>\n",
    "        <li>Al aumentar el grado de regularización, aumenta el valor de la función de costo $J(\\theta)$.</li>\n",
    "    </ol>\n",
    "</div>"
   ]
  },
  {
   "cell_type": "markdown",
   "id": "grave-organizer",
   "metadata": {},
   "source": [
    "<h2>IMPLEMENTACIÓN CON LIBRERÍAS ESPECIALIZADAS</h2>\n",
    "\n",
    "<ol>\n",
    "    <li>Se utiliza la librería <strong>scikit-learn</strong>\n",
    "    </li>\n",
    "</ol>"
   ]
  },
  {
   "cell_type": "code",
   "execution_count": 35,
   "id": "creative-killing",
   "metadata": {},
   "outputs": [],
   "source": [
    "from sklearn.linear_model import LinearRegression"
   ]
  },
  {
   "cell_type": "markdown",
   "id": "bibliographic-spoke",
   "metadata": {},
   "source": [
    "<ol start=\"2\">\n",
    "    <li>Los arreglos de entrada y salida deben ser <strong>NumPy arrays</strong>.\n",
    "        <ul>\n",
    "            <li>El arreglo de <strong>X</strong> debe tener <strong>2 dimensiones</strong>: cada columna debe corresponder con una variable de entrada y cada fila con una observación particular.</li>\n",
    "            <li>El arreglo de <strong>Y</strong> debe tener <strong>1 dimensión</strong>, siendo cada elemento la salida de cada una de las observaciones</li>\n",
    "        </ul>\n",
    "    </li>\n",
    "</ol>"
   ]
  },
  {
   "cell_type": "code",
   "execution_count": 65,
   "id": "vulnerable-cuisine",
   "metadata": {},
   "outputs": [
    {
     "data": {
      "text/plain": [
       "array([[78.   ,  0.27 , 41.   ],\n",
       "       [79.   ,  0.282, 56.   ],\n",
       "       [81.   ,  0.277, 63.   ],\n",
       "       [80.   ,  0.28 , 68.   ],\n",
       "       [76.   ,  0.272, 69.   ],\n",
       "       [78.   ,  0.262, 65.   ],\n",
       "       [82.   ,  0.275, 61.   ],\n",
       "       [79.   ,  0.267, 47.   ],\n",
       "       [76.   ,  0.265, 32.   ],\n",
       "       [79.   ,  0.277, 24.   ],\n",
       "       [82.   ,  0.282, 28.   ],\n",
       "       [85.   ,  0.27 , 26.   ],\n",
       "       [86.   ,  0.272, 32.   ],\n",
       "       [83.   ,  0.287, 40.   ],\n",
       "       [84.   ,  0.277, 55.   ],\n",
       "       [82.   ,  0.287, 63.   ],\n",
       "       [80.   ,  0.28 , 72.   ],\n",
       "       [78.   ,  0.277, 72.   ],\n",
       "       [84.   ,  0.277, 67.   ],\n",
       "       [86.   ,  0.277, 60.   ],\n",
       "       [85.   ,  0.292, 44.   ],\n",
       "       [87.   ,  0.287, 40.   ],\n",
       "       [94.   ,  0.277, 32.   ],\n",
       "       [92.   ,  0.285, 27.   ],\n",
       "       [95.   ,  0.282, 28.   ],\n",
       "       [96.   ,  0.265, 33.   ],\n",
       "       [94.   ,  0.265, 41.   ],\n",
       "       [96.   ,  0.265, 52.   ],\n",
       "       [91.   ,  0.268, 64.   ],\n",
       "       [90.   ,  0.26 , 71.   ]])"
      ]
     },
     "execution_count": 65,
     "metadata": {},
     "output_type": "execute_result"
    }
   ],
   "source": [
    "Xtest = dfHelados.loc[:,'income':'temp'].values\n",
    "Xtest"
   ]
  },
  {
   "cell_type": "code",
   "execution_count": 55,
   "id": "loose-nomination",
   "metadata": {},
   "outputs": [
    {
     "data": {
      "text/plain": [
       "array([0.386, 0.374, 0.393, 0.425, 0.406, 0.344, 0.327, 0.288, 0.269,\n",
       "       0.256, 0.286, 0.298, 0.329, 0.318, 0.381, 0.381, 0.47 , 0.443,\n",
       "       0.386, 0.342, 0.319, 0.307, 0.284, 0.326, 0.309, 0.359, 0.376,\n",
       "       0.416, 0.437, 0.548])"
      ]
     },
     "execution_count": 55,
     "metadata": {},
     "output_type": "execute_result"
    }
   ],
   "source": [
    "Y = dfHelados.loc[:,'cons'].values\n",
    "Y"
   ]
  },
  {
   "cell_type": "markdown",
   "id": "779552a9-3dc7-43c8-8650-fa1646203f39",
   "metadata": {},
   "source": [
    "<ol start=\"3\">\n",
    "    <li>Se normalizan los valores de los parámetros de entrada. \n",
    "        Para ello se utiliza la clase <strong>StandardScaler</strong>.\n",
    "        Algunos de los parámetros que posee esta clase son:\n",
    "        <ul>\n",
    "          <li><strong>with_mean</strong> decide si centra los \n",
    "              datos antes de realizar el escalado.</li>\n",
    "          <li><strong>with_std</strong> decide si escala los \n",
    "              datos para tener varianza unitaria, es decir, desviación unitaria.</li>\n",
    "        </ul>\n",
    "        Por defecto with_mean y with_std se consideran True.\n",
    "    <br> \n",
    "    Algunos de sus métodos son:\n",
    "         <ul>\n",
    "             <li><strong>fit</strong> calcula la media y desviación estándar \n",
    "                 que será usado luego para realizar el escalado.</li>\n",
    "             <li><strong>transform</strong> realiza la estandarización de los\n",
    "                 datos mediante el centrado y escalado.</li>\n",
    "             <li><strong>fit_transform</strong> calcula la media y desviación \n",
    "                 estándar de los datos y luego realiza su transformación.</li>\n",
    "         </ul>\n",
    "    </li>\n",
    "</ol>"
   ]
  },
  {
   "cell_type": "code",
   "execution_count": 56,
   "id": "a5cb8c19-f434-4b2b-8ab5-e9a6503a129e",
   "metadata": {},
   "outputs": [
    {
     "data": {
      "text/plain": [
       "array([[-1.07481784, -0.64616531, -0.50167543],\n",
       "       [-0.91196665,  0.81685048,  0.42735315],\n",
       "       [-0.58626427,  0.20726057,  0.86089981],\n",
       "       [-0.74911546,  0.57301452,  1.17057601],\n",
       "       [-1.40052021, -0.40232934,  1.23251125],\n",
       "       [-1.07481784, -1.62150917,  0.98477029],\n",
       "       [-0.42341309, -0.03657539,  0.73702934],\n",
       "       [-0.91196665, -1.01191925, -0.130064  ],\n",
       "       [-1.40052021, -1.25575522, -1.05909258],\n",
       "       [-0.91196665,  0.20726057, -1.55457449],\n",
       "       [-0.42341309,  0.81685048, -1.30683353],\n",
       "       [ 0.06514047, -0.64616531, -1.43070401],\n",
       "       [ 0.22799166, -0.40232934, -1.05909258],\n",
       "       [-0.2605619 ,  1.42644039, -0.56361067],\n",
       "       [-0.09771071,  0.20726057,  0.36541791],\n",
       "       [-0.42341309,  1.42644039,  0.86089981],\n",
       "       [-0.74911546,  0.57301452,  1.41831696],\n",
       "       [-1.07481784,  0.20726057,  1.41831696],\n",
       "       [-0.09771071,  0.20726057,  1.10864077],\n",
       "       [ 0.22799166,  0.20726057,  0.6750941 ],\n",
       "       [ 0.06514047,  2.03603031, -0.31586972],\n",
       "       [ 0.39084285,  1.42644039, -0.56361067],\n",
       "       [ 1.53080116,  0.20726057, -1.05909258],\n",
       "       [ 1.20509879,  1.18260443, -1.36876877],\n",
       "       [ 1.69365235,  0.81685048, -1.30683353],\n",
       "       [ 1.85650353, -1.25575522, -0.99715734],\n",
       "       [ 1.53080116, -1.25575522, -0.50167543],\n",
       "       [ 1.85650353, -1.25575522,  0.17961219],\n",
       "       [ 1.0422476 , -0.89000127,  0.92283505],\n",
       "       [ 0.87939641, -1.86534513,  1.35638172]])"
      ]
     },
     "execution_count": 56,
     "metadata": {},
     "output_type": "execute_result"
    }
   ],
   "source": [
    "from sklearn.preprocessing import StandardScaler\n",
    "scaler = StandardScaler()\n",
    "Xtest = scaler.fit_transform(Xtest)\n",
    "Xtest"
   ]
  },
  {
   "cell_type": "markdown",
   "id": "32e59b5d-43a1-4264-afaf-c1fb9ff08243",
   "metadata": {},
   "source": [
    "<ol style=\"list-style-type:none;\">\n",
    "    <li>\n",
    "        Es posible acceder a los atributos de la clase StandardScaler entrenada:\n",
    "    </li>\n",
    "</ol>"
   ]
  },
  {
   "cell_type": "code",
   "execution_count": 70,
   "id": "6cad7be1-e96e-4cbe-8bd0-fdab1e4cf64b",
   "metadata": {},
   "outputs": [
    {
     "name": "stdout",
     "output_type": "stream",
     "text": [
      "Los valores de media son: [84.6     0.2753 49.1   ]\n",
      "Los valores de desviación estándar son: [3.77066667e+01 6.72766667e-05 2.60690000e+02]\n"
     ]
    }
   ],
   "source": [
    "print(f\"\"\"Los valores de media son: {scaler.mean_}\n",
    "Los valores de desviación estándar son: {scaler.var_}\"\"\")"
   ]
  },
  {
   "cell_type": "markdown",
   "id": "lyric-share",
   "metadata": {},
   "source": [
    "<ol start=\"4\">\n",
    "    <li>Se crea una instancia de la clase <strong>LinearRegression</strong>, la cual tiene muchos parámetros opcionales:\n",
    "        <ul>\n",
    "          <li><strong>fit_intercept</strong> decide si se calcula el término independiente (True) o si se considera 0 (False).</li>\n",
    "          <li><strong>copy_X</strong> decide si se copian (True) o se sobreescriben las variables de entrada (False).</li>\n",
    "        </ul>\n",
    "        Por defecto fit_intercept y copy_X se consideran True, mientras que normalize se considera False.\n",
    "    </li>\n",
    "</ol>"
   ]
  },
  {
   "cell_type": "code",
   "execution_count": 71,
   "id": "excellent-asian",
   "metadata": {},
   "outputs": [],
   "source": [
    "model = LinearRegression()"
   ]
  },
  {
   "cell_type": "markdown",
   "id": "south-metadata",
   "metadata": {},
   "source": [
    "<ol start=\"5\">\n",
    "    <li>Se entrena el modelo, lo cual determina los valores de los coeficientes que corresponden al mejor valor de la función costo\n",
    "    </li>\n",
    "</ol>"
   ]
  },
  {
   "cell_type": "code",
   "execution_count": 72,
   "id": "agricultural-irrigation",
   "metadata": {},
   "outputs": [
    {
     "data": {
      "text/plain": [
       "LinearRegression()"
      ]
     },
     "execution_count": 72,
     "metadata": {},
     "output_type": "execute_result"
    }
   ],
   "source": [
    "model.fit(Xtest, Y)"
   ]
  },
  {
   "cell_type": "markdown",
   "id": "unavailable-conditioning",
   "metadata": {},
   "source": [
    "<ol start=\"6\">\n",
    "    <li>Se pueden obtener los atributos del modelo:\n",
    "        <ul>\n",
    "            <li> Los valores de los coeficientes del modelo entrenado.\n",
    "            </li>\n",
    "        </ul>\n",
    "    </li>\n",
    "</ol>"
   ]
  },
  {
   "cell_type": "code",
   "execution_count": 73,
   "id": "specific-proof",
   "metadata": {},
   "outputs": [
    {
     "name": "stdout",
     "output_type": "stream",
     "text": [
      "0.19731507194747078 [ 0.00330776 -1.04441399  0.00345843]\n"
     ]
    }
   ],
   "source": [
    "print(model.intercept_,model.coef_)"
   ]
  },
  {
   "cell_type": "markdown",
   "id": "general-server",
   "metadata": {},
   "source": [
    "<ol start=\"7\">\n",
    "    <li>Se calculan los valores predichos de salida haciendo uso del modelo entrenado.\n",
    "    </li>\n",
    "</ol>"
   ]
  },
  {
   "cell_type": "code",
   "execution_count": 74,
   "id": "greater-cambodia",
   "metadata": {},
   "outputs": [
    {
     "data": {
      "text/plain": [
       "array([0.31512423, 0.35777547, 0.39382207, 0.40467321, 0.40325591,\n",
       "       0.40648185, 0.39230179, 0.34231581, 0.28260491, 0.25232778,\n",
       "       0.27086271, 0.2864021 , 0.30837162, 0.31044956, 0.37607791,\n",
       "       0.38668569, 0.41850693, 0.41502465, 0.41757907, 0.39998558,\n",
       "       0.32567673, 0.3236806 , 0.32961163, 0.29734865, 0.3138636 ,\n",
       "       0.35221855, 0.37327046, 0.41792871, 0.43975783, 0.46901439])"
      ]
     },
     "execution_count": 74,
     "metadata": {},
     "output_type": "execute_result"
    }
   ],
   "source": [
    "predictions = model.predict(Xtest)\n",
    "predictions"
   ]
  },
  {
   "cell_type": "code",
   "execution_count": 75,
   "id": "retained-cement",
   "metadata": {},
   "outputs": [
    {
     "data": {
      "application/vnd.jupyter.widget-view+json": {
       "model_id": "d3dc6561fed34910aa72c530477a53ff",
       "version_major": 2,
       "version_minor": 0
      },
      "text/plain": [
       "VBox(children=(Output(), FloatSlider(value=0.096, description='$\\\\alpha$', max=0.9, step=0.001)), layout=Layou…"
      ]
     },
     "metadata": {},
     "output_type": "display_data"
    }
   ],
   "source": [
    "skl = widgets.Output()\n",
    "\n",
    "with skl:\n",
    "    fig_p, ax_p = plt.subplots(figsize = (6,4),tight_layout = True)\n",
    "    fig_p.suptitle(r'Hipótesis vs Valores de salida reales')\n",
    "    ax_p.plot(np.arange(0,len(Y)),predictions,'b+',markersize=8,label='Predicción con sklearn',alpha = 0.9)\n",
    "    ax_p.scatter(np.arange(0,len(Y)),Y,marker='o',label='Salida real',alpha = 0.9,facecolors='none', edgecolors='g')\n",
    "    lineh_skl, = ax_p.plot(np.arange(0,len(Y)),h_gd,'rx', markersize=8,label='Predicción',alpha = 0.9)\n",
    "    ax_p.grid(True)\n",
    "    ax_p.legend();\n",
    "\n",
    "def update_skl (change):\n",
    "    t_gd, J_gd = plot_J_gd(alpha_slider.value,X_gd,Y_gd)\n",
    "    h_gd = h_gd_value(t_gd,X_gd)\n",
    "    lineh_skl.set_ydata(h_gd)\n",
    "\n",
    "alpha_slider.observe(update_skl ,'value')\n",
    "\n",
    "widgets.VBox([skl,alpha_slider],layout = layout)\n",
    "\n"
   ]
  },
  {
   "cell_type": "markdown",
   "id": "unlikely-sharing",
   "metadata": {},
   "source": [
    "<ol start=\"7\">\n",
    "    <li>Se calcula un puntaje para el modelo, el mismo equivale al porcentaje de predicciones correctas realizadas por el modelo.\n",
    "    </li>\n",
    "</ol>"
   ]
  },
  {
   "cell_type": "code",
   "execution_count": 53,
   "id": "helpful-macedonia",
   "metadata": {},
   "outputs": [
    {
     "data": {
      "text/plain": [
       "0.7189938520147974"
      ]
     },
     "execution_count": 53,
     "metadata": {},
     "output_type": "execute_result"
    }
   ],
   "source": [
    "model.score(Xtest,Y)"
   ]
  }
 ],
 "metadata": {
  "kernelspec": {
   "display_name": "Python 3 (ipykernel)",
   "language": "python",
   "name": "python3"
  },
  "language_info": {
   "codemirror_mode": {
    "name": "ipython",
    "version": 3
   },
   "file_extension": ".py",
   "mimetype": "text/x-python",
   "name": "python",
   "nbconvert_exporter": "python",
   "pygments_lexer": "ipython3",
   "version": "3.9.7"
  }
 },
 "nbformat": 4,
 "nbformat_minor": 5
}
